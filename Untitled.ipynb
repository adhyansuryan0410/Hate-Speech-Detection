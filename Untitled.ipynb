{
 "cells": [
  {
   "cell_type": "code",
   "execution_count": 2,
   "metadata": {},
   "outputs": [],
   "source": [
    "import numpy as np\n",
    "import pandas as pd"
   ]
  },
  {
   "cell_type": "code",
   "execution_count": 3,
   "metadata": {},
   "outputs": [],
   "source": [
    "train = pd.read_csv('data/train_tweets.csv')\n",
    "test = pd.read_csv('data/test_tweets.csv')"
   ]
  },
  {
   "cell_type": "code",
   "execution_count": 4,
   "metadata": {},
   "outputs": [],
   "source": [
    "train['label'] = train['label'].astype('category')"
   ]
  },
  {
   "cell_type": "code",
   "execution_count": 5,
   "metadata": {},
   "outputs": [],
   "source": [
    "from nltk.stem import WordNetLemmatizer\n",
    "from nltk import tokenize\n",
    "from sklearn.feature_extraction.text import TfidfVectorizer\n",
    "import re"
   ]
  },
  {
   "cell_type": "code",
   "execution_count": 6,
   "metadata": {},
   "outputs": [],
   "source": [
    "train['text_lem'] = [''.join([WordNetLemmatizer().lemmatize(re.sub('[^A-Za-z]', ' ', text)) for text in lis]) for lis in train['tweet']]\n",
    "test['text_lem'] = [''.join([WordNetLemmatizer().lemmatize(re.sub('[^A-Za-z]', ' ', text)) for text in lis]) for lis in test['tweet']]"
   ]
  },
  {
   "cell_type": "code",
   "execution_count": 13,
   "metadata": {},
   "outputs": [
    {
     "data": {
      "text/plain": [
       "0          user when a father is dysfunctional and is s...\n",
       "1         user  user thanks for  lyft credit i can t us...\n",
       "2                                      bihday your majesty\n",
       "3         model   i love u take with u all the time in ...\n",
       "4                   factsguide  society now     motivation\n",
       "                               ...                        \n",
       "31957    ate  user isz that youuu                      ...\n",
       "31958      to see nina turner on the airwaves trying to...\n",
       "31959    listening to sad songs on a monday morning otw...\n",
       "31960     user  sikh  temple vandalised in in  calgary ...\n",
       "31961                     thank you  user for you follow  \n",
       "Name: text_lem, Length: 31962, dtype: object"
      ]
     },
     "execution_count": 13,
     "metadata": {},
     "output_type": "execute_result"
    }
   ],
   "source": [
    "train['text_lem']"
   ]
  },
  {
   "cell_type": "code",
   "execution_count": 7,
   "metadata": {},
   "outputs": [],
   "source": [
    "from sklearn.model_selection import train_test_split\n",
    "\n",
    "X_train, X_test, y_train, y_test = train_test_split(train['text_lem'], train['label'])"
   ]
  },
  {
   "cell_type": "code",
   "execution_count": 24,
   "metadata": {},
   "outputs": [],
   "source": [
    "vect = TfidfVectorizer(ngram_range = (1,5)).fit(X_train)\n",
    "vect_transformed_X_train = vect.transform(X_train)\n",
    "vect_transformed_X_test = vect.transform(X_test)"
   ]
  },
  {
   "cell_type": "code",
   "execution_count": 26,
   "metadata": {},
   "outputs": [
    {
     "name": "stdout",
     "output_type": "stream",
     "text": [
      "  (0, 650182)\t0.3150126703972513\n",
      "  (0, 650165)\t0.24570047945621473\n",
      "  (0, 636039)\t0.2687565726162289\n",
      "  (0, 630084)\t0.1293261655558235\n",
      "  (0, 623602)\t0.22104147087189152\n",
      "  (0, 611441)\t0.28035657492673305\n",
      "  (0, 611196)\t0.1782601711726119\n",
      "  (0, 492630)\t0.20196935590628873\n",
      "  (0, 478782)\t0.2664188116203096\n",
      "  (0, 422408)\t0.20054172144877724\n",
      "  (0, 418331)\t0.11151379646551433\n",
      "  (0, 390146)\t0.14310298399186566\n",
      "  (0, 280535)\t0.3150126703972513\n",
      "  (0, 273561)\t0.09523734038661907\n",
      "  (0, 264543)\t0.21223491537074757\n",
      "  (0, 183959)\t0.17377356930878823\n",
      "  (0, 86200)\t0.2687565726162289\n",
      "  (0, 86179)\t0.24689101084126586\n",
      "  (0, 24494)\t0.2551673801220618\n",
      "  (0, 23771)\t0.15958078975873294\n",
      "  (1, 716772)\t0.2302958082509976\n",
      "  (1, 716684)\t0.17657885369192322\n",
      "  (1, 712507)\t0.14953821486444463\n",
      "  (1, 706087)\t0.23877490020512843\n",
      "  (1, 706032)\t0.19924581827472837\n",
      "  :\t:\n",
      "  (7988, 14644)\t0.19782087251608765\n",
      "  (7988, 6340)\t0.29943399617174793\n",
      "  (7988, 6273)\t0.15495516386799135\n",
      "  (7989, 712507)\t0.14561286602313553\n",
      "  (7989, 677392)\t0.5099829764162043\n",
      "  (7989, 677235)\t0.333437822160477\n",
      "  (7989, 607442)\t0.34823331840479044\n",
      "  (7989, 591760)\t0.11652597805657602\n",
      "  (7989, 405003)\t0.47596541912640133\n",
      "  (7989, 369789)\t0.26060309152815697\n",
      "  (7989, 224952)\t0.32482733422100984\n",
      "  (7989, 224198)\t0.2275086390931269\n",
      "  (7989, 25334)\t0.14477119437403174\n",
      "  (7990, 696081)\t0.15088919128023603\n",
      "  (7990, 549853)\t0.4081692114030425\n",
      "  (7990, 549852)\t0.16050236200654908\n",
      "  (7990, 540765)\t0.4081692114030425\n",
      "  (7990, 443860)\t0.4081692114030425\n",
      "  (7990, 406737)\t0.13060484703778447\n",
      "  (7990, 296091)\t0.13936800358205945\n",
      "  (7990, 152856)\t0.4373413297437434\n",
      "  (7990, 152495)\t0.2435259707370369\n",
      "  (7990, 54540)\t0.31569578412982086\n",
      "  (7990, 40423)\t0.1652041208018031\n",
      "  (7990, 503)\t0.19405023851589834\n"
     ]
    }
   ],
   "source": [
    "print(vect_transformed_X_test)"
   ]
  },
  {
   "cell_type": "code",
   "execution_count": null,
   "metadata": {},
   "outputs": [],
   "source": []
  }
 ],
 "metadata": {
  "kernelspec": {
   "display_name": "Python 3",
   "language": "python",
   "name": "python3"
  },
  "language_info": {
   "codemirror_mode": {
    "name": "ipython",
    "version": 3
   },
   "file_extension": ".py",
   "mimetype": "text/x-python",
   "name": "python",
   "nbconvert_exporter": "python",
   "pygments_lexer": "ipython3",
   "version": "3.8.2"
  }
 },
 "nbformat": 4,
 "nbformat_minor": 4
}
