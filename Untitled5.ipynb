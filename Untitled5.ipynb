{
 "cells": [
  {
   "cell_type": "code",
   "execution_count": 1,
   "metadata": {
    "id": "23GZtdAq-CEX"
   },
   "outputs": [],
   "source": [
    "import numpy as np\n",
    "import tensorflow as tf\n",
    "import pickle\n",
    "\n",
    "import cv2\n",
    "import matplotlib.pyplot as plt\n",
    "%matplotlib inline\n",
    "from IPython import display"
   ]
  },
  {
   "cell_type": "code",
   "execution_count": 2,
   "metadata": {
    "id": "GcXs0wkQ-NQV"
   },
   "outputs": [],
   "source": [
    "\n",
    "import tensorflow as tf\n",
    "# For process to not allocate entire GPU memory\n",
    "\n",
    "physical_devices = tf.config.experimental.list_physical_devices('GPU')\n",
    "assert len(physical_devices) > 0, \"Not enough GPU hardware devices available\"\n",
    "tf.config.experimental.set_memory_growth(physical_devices[0], True)"
   ]
  },
  {
   "cell_type": "code",
   "execution_count": 3,
   "metadata": {
    "colab": {
     "base_uri": "https://localhost:8080/"
    },
    "id": "kde80CFn-TJB",
    "outputId": "9561f290-8099-4102-e0b1-2ded6e05b70d"
   },
   "outputs": [
    {
     "name": "stdout",
     "output_type": "stream",
     "text": [
      "Downloading data from https://www.cs.toronto.edu/~kriz/cifar-10-python.tar.gz\n",
      "170500096/170498071 [==============================] - 2s 0us/step\n"
     ]
    }
   ],
   "source": [
    "(x, y), (x_test, y_test) = tf.keras.datasets.cifar10.load_data()"
   ]
  },
  {
   "cell_type": "code",
   "execution_count": 4,
   "metadata": {
    "id": "y6WpcnQk-a8J"
   },
   "outputs": [],
   "source": [
    "x = x.astype(np.float32)\n",
    "x_test = x_test.astype(np.float32)"
   ]
  },
  {
   "cell_type": "code",
   "execution_count": 5,
   "metadata": {
    "id": "qTU5wGrA-fIs"
   },
   "outputs": [],
   "source": [
    "payload_train = x[:5000]\n",
    "\n",
    "host_train = x[np.random.choice(np.arange(x.shape[0]), size=payload_train.shape[0])][:5000]\n",
    "\n",
    "# for when payload is grayscale\n",
    "payload_test = np.mean(x_test, axis=-1)[:500, :, :, np.newaxis]\n",
    "\n",
    "# for when payload is rgb\n",
    "payload_test = x[:500]\n",
    "\n",
    "host_test = x_test[np.random.choice(np.arange(x_test.shape[0]), size=payload_test.shape[0])][:500]"
   ]
  },
  {
   "cell_type": "code",
   "execution_count": 6,
   "metadata": {
    "id": "FOhtgUZ0-kqt"
   },
   "outputs": [],
   "source": [
    "train_dataset = tf.data.Dataset.from_tensor_slices((payload_train, host_train))"
   ]
  },
  {
   "cell_type": "code",
   "execution_count": 7,
   "metadata": {
    "id": "jduOYGox-oao"
   },
   "outputs": [],
   "source": [
    "# Normalization function\n",
    "def normalize(payload, host):\n",
    "    payload = tf.image.per_image_standardization(payload)\n",
    "    host = tf.image.per_image_standardization(host)\n",
    "    return payload, host\n",
    "\n",
    "# Adding shuffle, normalization and batching operations to the dataset object\n",
    "train_dataset = train_dataset.map(normalize).shuffle(5000).batch(256, drop_remainder=True)"
   ]
  },
  {
   "cell_type": "code",
   "execution_count": 8,
   "metadata": {
    "id": "PzhXpXKb-sW6"
   },
   "outputs": [],
   "source": [
    "test_dataset = tf.data.Dataset.from_tensor_slices((payload_test, host_test))\n",
    "test_dataset = (test_dataset.map(normalize).batch(128, drop_remainder=True)).shuffle(500)"
   ]
  },
  {
   "cell_type": "code",
   "execution_count": 9,
   "metadata": {
    "colab": {
     "base_uri": "https://localhost:8080/",
     "height": 35
    },
    "id": "GHXAyalL-xNE",
    "outputId": "fa5e79c0-8b64-4043-d53f-77739a173ed8"
   },
   "outputs": [
    {
     "data": {
      "application/vnd.google.colaboratory.intrinsic+json": {
       "type": "string"
      },
      "text/plain": [
       "'float32'"
      ]
     },
     "execution_count": 9,
     "metadata": {
      "tags": []
     },
     "output_type": "execute_result"
    }
   ],
   "source": [
    "from tensorflow.keras import Model\n",
    "from tensorflow.keras.layers import Input\n",
    "tf.keras.backend.set_floatx('float32')\n",
    "tf.keras.backend.floatx()"
   ]
  },
  {
   "cell_type": "code",
   "execution_count": 32,
   "metadata": {
    "id": "Lrm4Imv4-08S"
   },
   "outputs": [],
   "source": [
    "from tensorflow.keras.models import Sequential\n",
    "from tensorflow.keras import Model\n",
    "from tensorflow.keras.layers import Dense, Flatten, Conv2D, Concatenate, Input\n",
    "\n",
    "class EncoderNetwork:\n",
    "    def __init__(self, carrier_shape=(64,64, 3), payload_shape=(64,64, 1)):\n",
    "        \n",
    "#         super(EncoderModel, self).__init__()\n",
    "        self.carrier_shape = carrier_shape\n",
    "        self.payload_shape = payload_shape\n",
    "        \n",
    "    def _init_branch_payload(self, payload):\n",
    "\n",
    "        self.branch__payload_conv_1 = Conv2D(16, 3, padding='same', activation='relu', kernel_initializer='he_normal', input_shape=self.payload_shape)(payload)\n",
    "        self.branch__payload_conv_2 = Conv2D(16, 3, padding='same', activation='relu', kernel_initializer='he_normal')(self.branch__payload_conv_1)\n",
    "        self.branch__payload_conv_3 = Conv2D(16, 3, padding='same', activation='relu', kernel_initializer='he_normal')(self.branch__payload_conv_2)\n",
    "        self.branch__payload_conv_4 = Conv2D(16, 3, padding='same', activation='relu', kernel_initializer='he_normal')(self.branch__payload_conv_3)\n",
    "        self.branch__payload_conv_5 = Conv2D(16, 3, padding='same', activation='relu', kernel_initializer='he_normal')(self.branch__payload_conv_4)\n",
    "        self.branch__payload_conv_6 = Conv2D(16, 3, padding='same', activation='relu', kernel_initializer='he_normal')(self.branch__payload_conv_5)\n",
    "        self.branch__payload_conv_7 = Conv2D(16, 3, padding='same', activation='relu', kernel_initializer='he_normal')(self.branch__payload_conv_6)\n",
    "        \n",
    "        self.payload_tensors = [self.branch__payload_conv_1, self.branch__payload_conv_2,\\\n",
    "                                self.branch__payload_conv_3, self.branch__payload_conv_4, self.branch__payload_conv_5,\\\n",
    "                                self.branch__payload_conv_6, self.branch__payload_conv_7]\n",
    "    \n",
    "    def _init_branch_carrier(self, carrier):\n",
    "        \n",
    "        self.branch_carrier_conv_1 = Conv2D(16, 3, padding='same', activation='relu', kernel_initializer='he_normal')(carrier)\n",
    "        self.branch_carrier_concat_1 = Concatenate()([self.branch_carrier_conv_1, self.branch__payload_conv_1])\n",
    "        \n",
    "        self.branch_carrier_conv_2 = Conv2D(16, 3, padding='same', activation='relu', kernel_initializer='he_normal')(self.branch_carrier_concat_1)\n",
    "        \n",
    "        self.branch_carrier_conv_3 = Conv2D(16, 3, padding='same', activation='relu', kernel_initializer='he_normal')(self.branch_carrier_conv_2)\n",
    "        self.branch_carrier_concat_2 = Concatenate()([self.branch_carrier_conv_3, self.branch__payload_conv_3])\n",
    "        \n",
    "        self.branch_carrier_conv_4 = Conv2D(16, 3, padding='same', activation='relu', kernel_initializer='he_normal')(self.branch_carrier_concat_2)\n",
    "        \n",
    "        self.branch_carrier_conv_5 = Conv2D(16, 3, padding='same', activation='relu', kernel_initializer='he_normal')(self.branch_carrier_conv_4)\n",
    "        self.branch_carrier_concat_3 = Concatenate()([self.branch_carrier_conv_5, self.branch__payload_conv_5])\n",
    "        \n",
    "        self.branch_carrier_conv_6 = Conv2D(16, 3, padding='same', activation='relu', kernel_initializer='he_normal')(self.branch_carrier_concat_3)\n",
    "        \n",
    "        self.branch_carrier_conv_7 = Conv2D(16, 3, padding='same', activation='relu', kernel_initializer='he_normal')(self.branch_carrier_conv_6)\n",
    "        self.branch_carrier_concat_4 = Concatenate()([self.branch_carrier_conv_7, self.branch__payload_conv_7])\n",
    "        \n",
    "        self.branch_carrier_conv_8 = Conv2D(16, 1, padding='same', activation='relu', kernel_initializer='he_normal')(self.branch_carrier_concat_4)\n",
    "        self.branch_carrier_conv_9 = Conv2D(8, 1, padding='same', activation='relu', kernel_initializer='he_normal')(self.branch_carrier_conv_8)\n",
    "        self.encoded_output = Conv2D(3, 1, padding='same', kernel_initializer='he_normal', name='encoded_output')(self.branch_carrier_conv_9)\n",
    "        \n",
    "        self.carrier_tensors = [self.branch_carrier_conv_1, self.branch_carrier_concat_1,\\\n",
    "                               self.branch_carrier_conv_2, self.branch_carrier_conv_3, self.branch_carrier_concat_2,\\\n",
    "                               self.branch_carrier_conv_4, self.branch_carrier_conv_5, self.branch_carrier_concat_3,\\\n",
    "                               self.branch_carrier_conv_6, self.branch_carrier_conv_7, self.branch_carrier_concat_4,\\\n",
    "                               self.branch_carrier_conv_8, self.branch_carrier_conv_9, self.encoded_output]\n",
    "    \n",
    "    def get_network(self, carrier, payload):\n",
    "        \n",
    "        self._init_branch_payload(payload)\n",
    "        self._init_branch_carrier(carrier)\n",
    "        \n",
    "        return self.encoded_output\n",
    "\n",
    "class DecoderNetwork:\n",
    "    def __init__(self, target_image_shape = (64,64, 1)):\n",
    "#         super(DecoderModel, self).__init__()\n",
    "        self.target_image_shape = target_image_shape\n",
    "        \n",
    "    def _init_network(self, input_):\n",
    "\n",
    "        self.conv_1 = Conv2D(16, 3, padding='same', activation='relu', kernel_initializer='he_normal')(input_)\n",
    "        self.conv_2 = Conv2D(16, 3, padding='same', activation='relu', kernel_initializer='he_normal')(self.conv_1)\n",
    "        self.conv_3 = Conv2D(8, 3, padding='same', activation='relu', kernel_initializer='he_normal')(self.conv_2)\n",
    "        self.conv_4 = Conv2D(8, 3, padding='same', activation='relu', kernel_initializer='he_normal')(self.conv_3)\n",
    "        self.conv_5 = Conv2D(3, 3, padding='same', activation='relu', kernel_initializer='he_normal')(self.conv_4)\n",
    "        self.conv_6 = Conv2D(3, 3, padding='same', activation='relu', kernel_initializer='he_normal')(self.conv_5)\n",
    "        self.decoded_output = Conv2D(self.target_image_shape[-1], self.target_image_shape[-1], padding='same', activation='relu', kernel_initializer='he_normal', name='decoded_output')(self.conv_6)\n",
    "        \n",
    "        self.decoder_tensors = [self.conv_1, self.conv_2,\\\n",
    "                                self.conv_3, self.conv_4, self.conv_5,\\\n",
    "                                self.conv_6, self.decoded_output]\n",
    "    \n",
    "    def get_network(self, encoder_output):\n",
    "        \n",
    "        self._init_network(encoder_output)\n",
    "\n",
    "        return self.decoded_output"
   ]
  },
  {
   "cell_type": "code",
   "execution_count": 33,
   "metadata": {
    "id": "spvYjX7y_Ht4"
   },
   "outputs": [],
   "source": [
    "carrier_image_shape=(64, 64, 3)\n",
    "payload_image_shape=(64, 64, 3)\n",
    "\n",
    "encoder_network = EncoderNetwork(carrier_shape=carrier_image_shape, payload_shape=payload_image_shape)\n",
    "decoder_network = DecoderNetwork(target_image_shape=payload_image_shape)\n"
   ]
  },
  {
   "cell_type": "code",
   "execution_count": 34,
   "metadata": {
    "id": "iIIIFvOU_QMf"
   },
   "outputs": [],
   "source": [
    "input_carrier = Input(shape=carrier_image_shape, name='input_carrier')\n",
    "input_payload = Input(shape=payload_image_shape, name='input_payload')\n",
    "encoded_output = encoder_network.get_network(input_carrier, input_payload)\n",
    "decoded_output = decoder_network.get_network(encoded_output)\n",
    "steganography_model = Model(inputs=[input_carrier, input_payload], outputs=[encoded_output, decoded_output])"
   ]
  },
  {
   "cell_type": "code",
   "execution_count": 35,
   "metadata": {
    "id": "kbpHzdXn_hEV"
   },
   "outputs": [],
   "source": [
    "@tf.function\n",
    "def loss_function(payload, host, encoder_output, decoder_output):\n",
    "    \n",
    "    loss = tf.math.reduce_mean(tf.math.squared_difference(payload, decoder_output)\\\n",
    "                           + tf.math.squared_difference(host, encoder_output))\n",
    "        \n",
    "    return loss\n",
    "def custom_loss(input_):\n",
    "    def loss(y_true, y_pred):\n",
    "        return tf.math.reduce_mean(tf.math.squared_difference(y_true, y_pred))\n",
    "    return loss\n",
    "optimizer = tf.keras.optimizers.Adam(0.0001)\n",
    "a = None\n",
    "for payload, host in train_dataset.batch(5000):\n",
    "    a = host\n",
    "    break\n"
   ]
  },
  {
   "cell_type": "code",
   "execution_count": 36,
   "metadata": {
    "colab": {
     "base_uri": "https://localhost:8080/"
    },
    "id": "irHoVuA1_5Bj",
    "outputId": "a7b42274-d30a-4f4c-df19-fe189b458124"
   },
   "outputs": [
    {
     "name": "stdout",
     "output_type": "stream",
     "text": [
      "WARNING:tensorflow:Model was constructed with shape (None, 64, 64, 3) for input Tensor(\"input_carrier_2:0\", shape=(None, 64, 64, 3), dtype=float32), but it was called on an input with incompatible shape (256, 32, 32, 3).\n",
      "WARNING:tensorflow:Model was constructed with shape (None, 64, 64, 3) for input Tensor(\"input_payload_2:0\", shape=(None, 64, 64, 3), dtype=float32), but it was called on an input with incompatible shape (256, 32, 32, 3).\n",
      "WARNING:tensorflow:Model was constructed with shape (None, 64, 64, 3) for input Tensor(\"input_carrier_2:0\", shape=(None, 64, 64, 3), dtype=float32), but it was called on an input with incompatible shape (256, 32, 32, 3).\n",
      "WARNING:tensorflow:Model was constructed with shape (None, 64, 64, 3) for input Tensor(\"input_payload_2:0\", shape=(None, 64, 64, 3), dtype=float32), but it was called on an input with incompatible shape (256, 32, 32, 3).\n",
      "WARNING:tensorflow:Model was constructed with shape (None, 64, 64, 3) for input Tensor(\"input_carrier_2:0\", shape=(None, 64, 64, 3), dtype=float32), but it was called on an input with incompatible shape (128, 32, 32, 3).\n",
      "WARNING:tensorflow:Model was constructed with shape (None, 64, 64, 3) for input Tensor(\"input_payload_2:0\", shape=(None, 64, 64, 3), dtype=float32), but it was called on an input with incompatible shape (128, 32, 32, 3).\n",
      "elapsed: 3.188734\n",
      "Epoch 1, Train Loss: 2.2198054790496826, Test Loss: 2.043607711791992, TrainH PSNR: 24.993593215942383, TrainP PSNR: 25.030412673950195, TestH PSNR: 24.993026733398438, TestP PSNR: 25.04452133178711\n",
      "elapsed: 1.577308\n",
      "Epoch 2, Train Loss: 2.1127140522003174, Test Loss: 1.9776716232299805, TrainH PSNR: 25.223052978515625, TrainP PSNR: 25.116533279418945, TestH PSNR: 25.21066665649414, TestP PSNR: 25.118968963623047\n",
      "elapsed: 1.592411\n",
      "Epoch 3, Train Loss: 2.0480165481567383, Test Loss: 1.845356822013855, TrainH PSNR: 25.809934616088867, TrainP PSNR: 25.145872116088867, TestH PSNR: 25.79730796813965, TestP PSNR: 25.149507522583008\n",
      "elapsed: 1.575213\n",
      "Epoch 4, Train Loss: 1.9734443426132202, Test Loss: 1.6813148260116577, TrainH PSNR: 26.82295036315918, TrainP PSNR: 25.090940475463867, TestH PSNR: 26.88581085205078, TestP PSNR: 25.111392974853516\n",
      "elapsed: 1.584700\n",
      "Epoch 5, Train Loss: 1.9009751081466675, Test Loss: 1.5728802680969238, TrainH PSNR: 27.71173858642578, TrainP PSNR: 25.11385726928711, TestH PSNR: 27.665481567382812, TestP PSNR: 25.115848541259766\n",
      "elapsed: 1.576247\n",
      "Epoch 6, Train Loss: 1.8360199928283691, Test Loss: 1.4829245805740356, TrainH PSNR: 28.529861450195312, TrainP PSNR: 25.11817169189453, TestH PSNR: 28.453567504882812, TestP PSNR: 25.12036895751953\n",
      "elapsed: 1.587707\n",
      "Epoch 7, Train Loss: 1.7783615589141846, Test Loss: 1.4168434143066406, TrainH PSNR: 29.217872619628906, TrainP PSNR: 25.13197135925293, TestH PSNR: 29.16867446899414, TestP PSNR: 25.133228302001953\n",
      "elapsed: 1.576737\n",
      "Epoch 8, Train Loss: 1.7283692359924316, Test Loss: 1.3693324327468872, TrainH PSNR: 29.753204345703125, TrainP PSNR: 25.145517349243164, TestH PSNR: 29.614227294921875, TestP PSNR: 25.145753860473633\n",
      "elapsed: 1.581753\n",
      "Epoch 9, Train Loss: 1.6848281621932983, Test Loss: 1.3284856081008911, TrainH PSNR: 30.206098556518555, TrainP PSNR: 25.170989990234375, TestH PSNR: 30.127147674560547, TestP PSNR: 25.16708755493164\n",
      "elapsed: 1.584527\n",
      "Epoch 10, Train Loss: 1.6461468935012817, Test Loss: 1.2911020517349243, TrainH PSNR: 30.702463150024414, TrainP PSNR: 25.20242691040039, TestH PSNR: 30.527441024780273, TestP PSNR: 25.20138931274414\n",
      "elapsed: 1.584353\n",
      "Epoch 11, Train Loss: 1.6114519834518433, Test Loss: 1.2584327459335327, TrainH PSNR: 31.021484375, TrainP PSNR: 25.244810104370117, TestH PSNR: 30.85210418701172, TestP PSNR: 25.247949600219727\n",
      "elapsed: 1.609848\n",
      "Epoch 12, Train Loss: 1.5801405906677246, Test Loss: 1.2320162057876587, TrainH PSNR: 31.250574111938477, TrainP PSNR: 25.268207550048828, TestH PSNR: 31.15521240234375, TestP PSNR: 25.28274154663086\n",
      "elapsed: 1.590177\n",
      "Epoch 13, Train Loss: 1.5517909526824951, Test Loss: 1.209227442741394, TrainH PSNR: 31.495670318603516, TrainP PSNR: 25.28972053527832, TestH PSNR: 31.449260711669922, TestP PSNR: 25.306991577148438\n",
      "elapsed: 1.604542\n",
      "Epoch 14, Train Loss: 1.5260509252548218, Test Loss: 1.188015341758728, TrainH PSNR: 31.936159133911133, TrainP PSNR: 25.335962295532227, TestH PSNR: 31.728702545166016, TestP PSNR: 25.32611083984375\n",
      "elapsed: 1.590148\n",
      "Epoch 15, Train Loss: 1.5024300813674927, Test Loss: 1.1666136980056763, TrainH PSNR: 32.316429138183594, TrainP PSNR: 25.376426696777344, TestH PSNR: 32.003761291503906, TestP PSNR: 25.366682052612305\n",
      "elapsed: 1.609090\n",
      "Epoch 16, Train Loss: 1.4804834127426147, Test Loss: 1.1451541185379028, TrainH PSNR: 32.251991271972656, TrainP PSNR: 25.350563049316406, TestH PSNR: 32.322025299072266, TestP PSNR: 25.38275718688965\n",
      "elapsed: 1.602022\n",
      "Epoch 17, Train Loss: 1.4599227905273438, Test Loss: 1.1244306564331055, TrainH PSNR: 32.70759582519531, TrainP PSNR: 25.428634643554688, TestH PSNR: 32.522552490234375, TestP PSNR: 25.445484161376953\n",
      "elapsed: 1.601285\n",
      "Epoch 18, Train Loss: 1.440468192100525, Test Loss: 1.1017159223556519, TrainH PSNR: 32.68743133544922, TrainP PSNR: 25.50664520263672, TestH PSNR: 32.701080322265625, TestP PSNR: 25.496196746826172\n",
      "elapsed: 1.621584\n",
      "Epoch 19, Train Loss: 1.4214569330215454, Test Loss: 1.0660656690597534, TrainH PSNR: 32.62337112426758, TrainP PSNR: 25.663969039916992, TestH PSNR: 32.743438720703125, TestP PSNR: 25.657440185546875\n",
      "elapsed: 1.603862\n",
      "Epoch 20, Train Loss: 1.4024288654327393, Test Loss: 1.029697060585022, TrainH PSNR: 33.146183013916016, TrainP PSNR: 25.880605697631836, TestH PSNR: 32.92425537109375, TestP PSNR: 25.814170837402344\n",
      "elapsed: 1.599431\n",
      "Epoch 21, Train Loss: 1.383603811264038, Test Loss: 1.0003188848495483, TrainH PSNR: 33.26771926879883, TrainP PSNR: 25.96514129638672, TestH PSNR: 33.140296936035156, TestP PSNR: 25.923831939697266\n",
      "elapsed: 1.588136\n",
      "Epoch 22, Train Loss: 1.3652781248092651, Test Loss: 0.9755529761314392, TrainH PSNR: 33.52234649658203, TrainP PSNR: 26.055400848388672, TestH PSNR: 33.40263366699219, TestP PSNR: 26.051437377929688\n",
      "elapsed: 1.595167\n",
      "Epoch 23, Train Loss: 1.3475143909454346, Test Loss: 0.9524374604225159, TrainH PSNR: 33.89204025268555, TrainP PSNR: 26.09137535095215, TestH PSNR: 33.624019622802734, TestP PSNR: 26.13794708251953\n",
      "elapsed: 1.594403\n",
      "Epoch 24, Train Loss: 1.3303520679473877, Test Loss: 0.9321200251579285, TrainH PSNR: 33.95075225830078, TrainP PSNR: 26.20870018005371, TestH PSNR: 33.857688903808594, TestP PSNR: 26.184513092041016\n",
      "elapsed: 1.600679\n",
      "Epoch 25, Train Loss: 1.3138092756271362, Test Loss: 0.9136696457862854, TrainH PSNR: 34.12328338623047, TrainP PSNR: 26.25759506225586, TestH PSNR: 34.084144592285156, TestP PSNR: 26.2480525970459\n",
      "elapsed: 1.609962\n",
      "Epoch 26, Train Loss: 1.2978944778442383, Test Loss: 0.8983914852142334, TrainH PSNR: 34.493412017822266, TrainP PSNR: 26.304677963256836, TestH PSNR: 34.20724868774414, TestP PSNR: 26.288846969604492\n",
      "elapsed: 1.609356\n",
      "Epoch 27, Train Loss: 1.2826461791992188, Test Loss: 0.8841176629066467, TrainH PSNR: 34.61434555053711, TrainP PSNR: 26.42978286743164, TestH PSNR: 34.3892822265625, TestP PSNR: 26.340572357177734\n",
      "elapsed: 1.596206\n",
      "Epoch 28, Train Loss: 1.2680294513702393, Test Loss: 0.8722180724143982, TrainH PSNR: 34.602542877197266, TrainP PSNR: 26.449682235717773, TestH PSNR: 34.64789581298828, TestP PSNR: 26.428876876831055\n",
      "elapsed: 1.628508\n",
      "Epoch 29, Train Loss: 1.2540498971939087, Test Loss: 0.8612799048423767, TrainH PSNR: 34.83881378173828, TrainP PSNR: 26.402490615844727, TestH PSNR: 34.807464599609375, TestP PSNR: 26.471811294555664\n",
      "elapsed: 1.610714\n",
      "Epoch 30, Train Loss: 1.24066960811615, Test Loss: 0.8513699173927307, TrainH PSNR: 34.93639373779297, TrainP PSNR: 26.557958602905273, TestH PSNR: 34.90847396850586, TestP PSNR: 26.474769592285156\n",
      "elapsed: 1.606105\n",
      "Epoch 31, Train Loss: 1.2278480529785156, Test Loss: 0.8429341912269592, TrainH PSNR: 35.1909294128418, TrainP PSNR: 26.56312370300293, TestH PSNR: 34.95507049560547, TestP PSNR: 26.495988845825195\n",
      "elapsed: 1.619364\n",
      "Epoch 32, Train Loss: 1.2155841588974, Test Loss: 0.8341600298881531, TrainH PSNR: 35.29634475708008, TrainP PSNR: 26.539905548095703, TestH PSNR: 35.047569274902344, TestP PSNR: 26.53277015686035\n",
      "elapsed: 1.637478\n",
      "Epoch 33, Train Loss: 1.2038170099258423, Test Loss: 0.826984703540802, TrainH PSNR: 35.153018951416016, TrainP PSNR: 26.635757446289062, TestH PSNR: 35.29039001464844, TestP PSNR: 26.616504669189453\n",
      "elapsed: 1.621620\n",
      "Epoch 34, Train Loss: 1.1925455331802368, Test Loss: 0.8196672797203064, TrainH PSNR: 35.231719970703125, TrainP PSNR: 26.577348709106445, TestH PSNR: 35.40519714355469, TestP PSNR: 26.646873474121094\n",
      "elapsed: 1.614953\n",
      "Epoch 35, Train Loss: 1.1817309856414795, Test Loss: 0.8132658004760742, TrainH PSNR: 35.63631820678711, TrainP PSNR: 26.65717887878418, TestH PSNR: 35.51368713378906, TestP PSNR: 26.67456817626953\n",
      "elapsed: 1.613198\n",
      "Epoch 36, Train Loss: 1.1713311672210693, Test Loss: 0.80747389793396, TrainH PSNR: 35.63331985473633, TrainP PSNR: 26.634286880493164, TestH PSNR: 35.54249572753906, TestP PSNR: 26.647216796875\n",
      "elapsed: 1.610998\n",
      "Epoch 37, Train Loss: 1.1613575220108032, Test Loss: 0.8022461533546448, TrainH PSNR: 35.7388916015625, TrainP PSNR: 26.647579193115234, TestH PSNR: 35.549190521240234, TestP PSNR: 26.666980743408203\n",
      "elapsed: 1.622915\n",
      "Epoch 38, Train Loss: 1.1517897844314575, Test Loss: 0.7968438267707825, TrainH PSNR: 35.820106506347656, TrainP PSNR: 26.684040069580078, TestH PSNR: 35.71593475341797, TestP PSNR: 26.6898136138916\n",
      "elapsed: 1.632036\n",
      "Epoch 39, Train Loss: 1.1425812244415283, Test Loss: 0.7919819355010986, TrainH PSNR: 35.62104797363281, TrainP PSNR: 26.76329803466797, TestH PSNR: 35.79043197631836, TestP PSNR: 26.710594177246094\n",
      "elapsed: 1.614566\n",
      "Epoch 40, Train Loss: 1.1337112188339233, Test Loss: 0.7878679633140564, TrainH PSNR: 35.86406707763672, TrainP PSNR: 26.80443572998047, TestH PSNR: 35.960548400878906, TestP PSNR: 26.78587532043457\n",
      "elapsed: 1.601087\n",
      "Epoch 41, Train Loss: 1.1251925230026245, Test Loss: 0.78341144323349, TrainH PSNR: 35.8166618347168, TrainP PSNR: 26.779701232910156, TestH PSNR: 36.02718734741211, TestP PSNR: 26.809585571289062\n",
      "elapsed: 1.621691\n",
      "Epoch 42, Train Loss: 1.1169631481170654, Test Loss: 0.7793805599212646, TrainH PSNR: 36.06090545654297, TrainP PSNR: 26.81554412841797, TestH PSNR: 36.021114349365234, TestP PSNR: 26.760509490966797\n",
      "elapsed: 1.625714\n",
      "Epoch 43, Train Loss: 1.1090326309204102, Test Loss: 0.7758974432945251, TrainH PSNR: 36.23760986328125, TrainP PSNR: 26.835742950439453, TestH PSNR: 36.005287170410156, TestP PSNR: 26.780006408691406\n",
      "elapsed: 1.605617\n",
      "Epoch 44, Train Loss: 1.1013885736465454, Test Loss: 0.7721512317657471, TrainH PSNR: 36.266387939453125, TrainP PSNR: 26.76502227783203, TestH PSNR: 36.080440521240234, TestP PSNR: 26.796531677246094\n",
      "elapsed: 1.631483\n",
      "Epoch 45, Train Loss: 1.0940033197402954, Test Loss: 0.7688550353050232, TrainH PSNR: 36.408958435058594, TrainP PSNR: 26.783716201782227, TestH PSNR: 36.145484924316406, TestP PSNR: 26.81110954284668\n",
      "elapsed: 1.632139\n",
      "Epoch 46, Train Loss: 1.0868719816207886, Test Loss: 0.7659422755241394, TrainH PSNR: 36.15534591674805, TrainP PSNR: 26.74638557434082, TestH PSNR: 36.397945404052734, TestP PSNR: 26.884855270385742\n",
      "elapsed: 1.605720\n",
      "Epoch 47, Train Loss: 1.0799859762191772, Test Loss: 0.7629730701446533, TrainH PSNR: 36.24010467529297, TrainP PSNR: 26.883941650390625, TestH PSNR: 36.26904296875, TestP PSNR: 26.834753036499023\n",
      "elapsed: 1.619296\n",
      "Epoch 48, Train Loss: 1.073337197303772, Test Loss: 0.7607519030570984, TrainH PSNR: 36.59975814819336, TrainP PSNR: 26.81718635559082, TestH PSNR: 36.443504333496094, TestP PSNR: 26.83269500732422\n",
      "elapsed: 1.627763\n",
      "Epoch 49, Train Loss: 1.0668901205062866, Test Loss: 0.7581651210784912, TrainH PSNR: 36.59519958496094, TrainP PSNR: 26.913291931152344, TestH PSNR: 36.37565612792969, TestP PSNR: 26.85446548461914\n",
      "elapsed: 1.636058\n",
      "Epoch 50, Train Loss: 1.0606515407562256, Test Loss: 0.7550264000892639, TrainH PSNR: 36.45991516113281, TrainP PSNR: 26.899517059326172, TestH PSNR: 36.459800720214844, TestP PSNR: 26.868532180786133\n",
      "Training Finished.\n"
     ]
    }
   ],
   "source": [
    "test_loss = tf.keras.metrics.Mean(name='test_loss')\n",
    "train_loss = tf.keras.metrics.Mean(name='train_loss')\n",
    "\n",
    "@tf.function\n",
    "def train_step(payload, host):\n",
    "    with tf.GradientTape() as tape:\n",
    "        encoded_host, decoded_payload = steganography_model([host, payload])\n",
    "        loss = loss_function(payload, host, encoded_host, decoded_payload)\n",
    "        train_loss(loss)\n",
    "    gradients = tape.gradient(loss, steganography_model.trainable_variables)\n",
    "    optimizer.apply_gradients(zip(gradients, steganography_model.trainable_variables))\n",
    "    \n",
    "    train_host_psnr = tf.reduce_mean(tf.image.psnr(host, encoded_host, 18))\n",
    "    train_payload_psnr = tf.reduce_mean(tf.image.psnr(payload, decoded_payload, 18))\n",
    "    \n",
    "    return train_host_psnr, train_payload_psnr\n",
    "\n",
    "\n",
    "\n",
    "@tf.function\n",
    "def test_step(payload, host):\n",
    "    encoded_host, decoded_payload = steganography_model([host, payload])\n",
    "    t_loss = loss_function(payload, host, encoded_host, decoded_payload)\n",
    "    test_loss(t_loss)\n",
    "    \n",
    "    test_host_psnr = tf.reduce_mean(tf.image.psnr(host, encoded_host, 18))\n",
    "    test_payload_psnr = tf.reduce_mean(tf.image.psnr(payload, decoded_payload, 18))\n",
    "    \n",
    "    return test_host_psnr, test_payload_psnr\n",
    "\n",
    "EPOCHS = 50\n",
    "SUMMARY_DIR = './summary'\n",
    "\n",
    "import time\n",
    "\n",
    "\n",
    "for epoch in range(EPOCHS):\n",
    "    start = time.time()\n",
    "    for payload, host in train_dataset:\n",
    "        train_host_psnr, train_payload_psnr = train_step(payload, host)\n",
    "\n",
    "    for payload, host in test_dataset:\n",
    "        test_host_psnr, test_payload_psnr = test_step(payload, host)\n",
    "\n",
    "    elapsed = time.time() - start\n",
    "    print('elapsed: %f' % elapsed)\n",
    "\n",
    "    template = 'Epoch {}, Train Loss: {}, Test Loss: {}, TrainH PSNR: {}, TrainP PSNR: {}, TestH PSNR: {}, TestP PSNR: {}'\n",
    "    print(template.format(epoch+1, train_loss.result(), test_loss.result(), train_host_psnr,\\\n",
    "                         train_payload_psnr, test_host_psnr, test_payload_psnr))\n",
    "\n",
    "    # Reset the metrics for the next epoch\n",
    "    test_loss.reset_states()\n",
    "\n",
    "print('Training Finished.')"
   ]
  },
  {
   "cell_type": "code",
   "execution_count": 41,
   "metadata": {
    "colab": {
     "base_uri": "https://localhost:8080/",
     "height": 219
    },
    "id": "C-1qKJ5x_9RF",
    "outputId": "c7c54c2d-9220-4812-b7cb-eec1d4d50e5e"
   },
   "outputs": [
    {
     "data": {
      "text/plain": [
       "<matplotlib.image.AxesImage at 0x7f7a40eb2fd0>"
      ]
     },
     "execution_count": 41,
     "metadata": {
      "tags": []
     },
     "output_type": "execute_result"
    },
    {
     "data": {
      "image/png": "[encoded data removed]",
      "text/plain": [
       "<Figure size 432x288 with 2 Axes>"
      ]
     },
     "metadata": {
      "needs_background": "light",
      "tags": []
     },
     "output_type": "display_data"
    }
   ],
   "source": [
    "example_ids = np.arange(len(host_test))[:500]\n",
    "example_id = np.random.choice(example_ids)\n",
    "\n",
    "# showing host \n",
    "fig, axs = plt.subplots(ncols=2)\n",
    "\n",
    "host_example = host_test.astype(int)[example_id]\n",
    "payload_example = payload_test.astype(int)[example_id]\n",
    "axs[0].imshow(host_example)\n",
    "axs[1].imshow(payload_example)"
   ]
  },
  {
   "cell_type": "code",
   "execution_count": 42,
   "metadata": {
    "colab": {
     "base_uri": "https://localhost:8080/",
     "height": 236
    },
    "id": "gxneNh9KA7UA",
    "outputId": "6e0034ff-969b-49f4-ce46-07358f388100"
   },
   "outputs": [
    {
     "name": "stderr",
     "output_type": "stream",
     "text": [
      "Clipping input data to the valid range for imshow with RGB data ([0..1] for floats or [0..255] for integers).\n"
     ]
    },
    {
     "data": {
      "text/plain": [
       "<matplotlib.image.AxesImage at 0x7f7a4159a710>"
      ]
     },
     "execution_count": 42,
     "metadata": {
      "tags": []
     },
     "output_type": "execute_result"
    },
    {
     "data": {
      "image/png": "[encoded data removed]",
      "text/plain": [
       "<Figure size 432x288 with 2 Axes>"
      ]
     },
     "metadata": {
      "needs_background": "light",
      "tags": []
     },
     "output_type": "display_data"
    }
   ],
   "source": [
    "\n",
    "# showing host \n",
    "fig, axs = plt.subplots(ncols=2)\n",
    "\n",
    "inference_dataset = tf.data.Dataset.from_tensor_slices((host_test[example_ids], payload_test[example_ids])).batch(len(example_ids))\n",
    "for host, payload in inference_dataset:\n",
    "    encoded_host, decoded_payload = steganography_model([host, payload])\n",
    "    host_outputs = encoded_host.numpy()\n",
    "    payload_output = decoded_payload.numpy()\n",
    "\n",
    "host_output = host_outputs.astype(int)[example_id]\n",
    "payload_output = payload_output.astype(int)[example_id]\n",
    "\n",
    "    \n",
    "# payload_output = np.concatenate((payload_output, np.zeros_like(payload_output), np.zeros_like(payload_output)), axis=-1)\n",
    "axs[0].imshow(host_output)\n",
    "axs[1].imshow(payload_output)"
   ]
  }
 ],
 "metadata": {
  "accelerator": "GPU",
  "colab": {
   "name": "Untitled5.ipynb",
   "provenance": []
  },
  "kernelspec": {
   "display_name": "Python 3",
   "language": "python",
   "name": "python3"
  },
  "language_info": {
   "codemirror_mode": {
    "name": "ipython",
    "version": 3
   },
   "file_extension": ".py",
   "mimetype": "text/x-python",
   "name": "python",
   "nbconvert_exporter": "python",
   "pygments_lexer": "ipython3",
   "version": "3.8.2"
  }
 },
 "nbformat": 4,
 "nbformat_minor": 1
}
