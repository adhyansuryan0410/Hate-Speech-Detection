{
 "cells": [
  {
   "cell_type": "code",
   "execution_count": 1,
   "metadata": {},
   "outputs": [],
   "source": [
    "import numpy as np\n",
    "import pandas as pd"
   ]
  },
  {
   "cell_type": "markdown",
   "metadata": {},
   "source": [
    "<h2>Reading the dataset</h2>"
   ]
  },
  {
   "cell_type": "code",
   "execution_count": 2,
   "metadata": {},
   "outputs": [],
   "source": [
    "train = pd.read_csv('data/train_tweets.csv')\n",
    "test = pd.read_csv('data/test_tweets.csv')"
   ]
  },
  {
   "cell_type": "code",
   "execution_count": 3,
   "metadata": {},
   "outputs": [
    {
     "data": {
      "text/html": [
       "<div>\n",
       "<style scoped>\n",
       "    .dataframe tbody tr th:only-of-type {\n",
       "        vertical-align: middle;\n",
       "    }\n",
       "\n",
       "    .dataframe tbody tr th {\n",
       "        vertical-align: top;\n",
       "    }\n",
       "\n",
       "    .dataframe thead th {\n",
       "        text-align: right;\n",
       "    }\n",
       "</style>\n",
       "<table border=\"1\" class=\"dataframe\">\n",
       "  <thead>\n",
       "    <tr style=\"text-align: right;\">\n",
       "      <th></th>\n",
       "      <th>id</th>\n",
       "      <th>label</th>\n",
       "      <th>tweet</th>\n",
       "    </tr>\n",
       "  </thead>\n",
       "  <tbody>\n",
       "    <tr>\n",
       "      <th>0</th>\n",
       "      <td>1</td>\n",
       "      <td>0</td>\n",
       "      <td>@user when a father is dysfunctional and is s...</td>\n",
       "    </tr>\n",
       "    <tr>\n",
       "      <th>1</th>\n",
       "      <td>2</td>\n",
       "      <td>0</td>\n",
       "      <td>@user @user thanks for #lyft credit i can't us...</td>\n",
       "    </tr>\n",
       "    <tr>\n",
       "      <th>2</th>\n",
       "      <td>3</td>\n",
       "      <td>0</td>\n",
       "      <td>bihday your majesty</td>\n",
       "    </tr>\n",
       "    <tr>\n",
       "      <th>3</th>\n",
       "      <td>4</td>\n",
       "      <td>0</td>\n",
       "      <td>#model   i love u take with u all the time in ...</td>\n",
       "    </tr>\n",
       "    <tr>\n",
       "      <th>4</th>\n",
       "      <td>5</td>\n",
       "      <td>0</td>\n",
       "      <td>factsguide: society now    #motivation</td>\n",
       "    </tr>\n",
       "  </tbody>\n",
       "</table>\n",
       "</div>"
      ],
      "text/plain": [
       "   id  label                                              tweet\n",
       "0   1      0   @user when a father is dysfunctional and is s...\n",
       "1   2      0  @user @user thanks for #lyft credit i can't us...\n",
       "2   3      0                                bihday your majesty\n",
       "3   4      0  #model   i love u take with u all the time in ...\n",
       "4   5      0             factsguide: society now    #motivation"
      ]
     },
     "execution_count": 3,
     "metadata": {},
     "output_type": "execute_result"
    }
   ],
   "source": [
    "train.head()"
   ]
  },
  {
   "cell_type": "code",
   "execution_count": 4,
   "metadata": {},
   "outputs": [
    {
     "data": {
      "text/html": [
       "<div>\n",
       "<style scoped>\n",
       "    .dataframe tbody tr th:only-of-type {\n",
       "        vertical-align: middle;\n",
       "    }\n",
       "\n",
       "    .dataframe tbody tr th {\n",
       "        vertical-align: top;\n",
       "    }\n",
       "\n",
       "    .dataframe thead th {\n",
       "        text-align: right;\n",
       "    }\n",
       "</style>\n",
       "<table border=\"1\" class=\"dataframe\">\n",
       "  <thead>\n",
       "    <tr style=\"text-align: right;\">\n",
       "      <th></th>\n",
       "      <th>id</th>\n",
       "      <th>tweet</th>\n",
       "    </tr>\n",
       "  </thead>\n",
       "  <tbody>\n",
       "    <tr>\n",
       "      <th>0</th>\n",
       "      <td>31963</td>\n",
       "      <td>#studiolife #aislife #requires #passion #dedic...</td>\n",
       "    </tr>\n",
       "    <tr>\n",
       "      <th>1</th>\n",
       "      <td>31964</td>\n",
       "      <td>@user #white #supremacists want everyone to s...</td>\n",
       "    </tr>\n",
       "    <tr>\n",
       "      <th>2</th>\n",
       "      <td>31965</td>\n",
       "      <td>safe ways to heal your #acne!!    #altwaystohe...</td>\n",
       "    </tr>\n",
       "    <tr>\n",
       "      <th>3</th>\n",
       "      <td>31966</td>\n",
       "      <td>is the hp and the cursed child book up for res...</td>\n",
       "    </tr>\n",
       "    <tr>\n",
       "      <th>4</th>\n",
       "      <td>31967</td>\n",
       "      <td>3rd #bihday to my amazing, hilarious #nephew...</td>\n",
       "    </tr>\n",
       "  </tbody>\n",
       "</table>\n",
       "</div>"
      ],
      "text/plain": [
       "      id                                              tweet\n",
       "0  31963  #studiolife #aislife #requires #passion #dedic...\n",
       "1  31964   @user #white #supremacists want everyone to s...\n",
       "2  31965  safe ways to heal your #acne!!    #altwaystohe...\n",
       "3  31966  is the hp and the cursed child book up for res...\n",
       "4  31967    3rd #bihday to my amazing, hilarious #nephew..."
      ]
     },
     "execution_count": 4,
     "metadata": {},
     "output_type": "execute_result"
    }
   ],
   "source": [
    "test.head()"
   ]
  },
  {
   "cell_type": "code",
   "execution_count": 5,
   "metadata": {},
   "outputs": [],
   "source": [
    "train['label'] = train['label'].astype('category')"
   ]
  },
  {
   "cell_type": "code",
   "execution_count": 6,
   "metadata": {},
   "outputs": [
    {
     "name": "stdout",
     "output_type": "stream",
     "text": [
      "<class 'pandas.core.frame.DataFrame'>\n",
      "RangeIndex: 31962 entries, 0 to 31961\n",
      "Data columns (total 3 columns):\n",
      " #   Column  Non-Null Count  Dtype   \n",
      "---  ------  --------------  -----   \n",
      " 0   id      31962 non-null  int64   \n",
      " 1   label   31962 non-null  category\n",
      " 2   tweet   31962 non-null  object  \n",
      "dtypes: category(1), int64(1), object(1)\n",
      "memory usage: 530.9+ KB\n"
     ]
    }
   ],
   "source": [
    "train.info()"
   ]
  },
  {
   "cell_type": "markdown",
   "metadata": {},
   "source": [
    "<h2>Processing the Tweets<h2>"
   ]
  },
  {
   "cell_type": "code",
   "execution_count": 7,
   "metadata": {},
   "outputs": [],
   "source": [
    "from nltk.stem import WordNetLemmatizer\n",
    "from nltk import tokenize\n",
    "from sklearn.feature_extraction.text import TfidfVectorizer\n",
    "import re"
   ]
  },
  {
   "cell_type": "code",
   "execution_count": 8,
   "metadata": {},
   "outputs": [],
   "source": [
    "train['text_lem'] = [''.join([WordNetLemmatizer().lemmatize(re.sub('[^A-Za-z]', ' ', text)) for text in lis]) for lis in train['tweet']]\n",
    "test['text_lem'] = [''.join([WordNetLemmatizer().lemmatize(re.sub('[^A-Za-z]', ' ', text)) for text in lis]) for lis in test['tweet']]"
   ]
  },
  {
   "cell_type": "code",
   "execution_count": 9,
   "metadata": {},
   "outputs": [],
   "source": [
    "from sklearn.model_selection import train_test_split\n",
    "\n",
    "X_train, X_test, y_train, y_test = train_test_split(train['text_lem'], train['label'])"
   ]
  },
  {
   "cell_type": "code",
   "execution_count": 10,
   "metadata": {},
   "outputs": [
    {
     "data": {
      "text/plain": [
       "12920    0\n",
       "26892    0\n",
       "7770     0\n",
       "20328    0\n",
       "23049    0\n",
       "        ..\n",
       "10257    0\n",
       "5365     0\n",
       "21905    0\n",
       "13042    0\n",
       "13041    0\n",
       "Name: label, Length: 23971, dtype: category\n",
       "Categories (2, int64): [0, 1]"
      ]
     },
     "execution_count": 10,
     "metadata": {},
     "output_type": "execute_result"
    }
   ],
   "source": [
    "y_train"
   ]
  },
  {
   "cell_type": "code",
   "execution_count": 11,
   "metadata": {},
   "outputs": [],
   "source": [
    "vect = TfidfVectorizer(ngram_range = (1,5)).fit(X_train)"
   ]
  },
  {
   "cell_type": "code",
   "execution_count": 12,
   "metadata": {},
   "outputs": [],
   "source": [
    "vect_transformed_X_train = vect.transform(X_train)\n",
    "vect_transformed_X_test = vect.transform(X_test)"
   ]
  },
  {
   "cell_type": "code",
   "execution_count": 13,
   "metadata": {},
   "outputs": [],
   "source": [
    "from sklearn.svm import SVC\n",
    "from sklearn.linear_model import LogisticRegression\n",
    "from sklearn.naive_bayes import MultinomialNB\n",
    "from sklearn.ensemble import RandomForestClassifier\n",
    "from sklearn.linear_model import SGDClassifier\n",
    "from sklearn.metrics import f1_score, accuracy_score"
   ]
  },
  {
   "cell_type": "code",
   "execution_count": 14,
   "metadata": {},
   "outputs": [],
   "source": [
    "accuracies, f1_scores = [], []"
   ]
  },
  {
   "cell_type": "code",
   "execution_count": 15,
   "metadata": {},
   "outputs": [],
   "source": [
    "modelSVC = SVC(C=0.1).fit(vect_transformed_X_train, y_train)"
   ]
  },
  {
   "cell_type": "code",
   "execution_count": 16,
   "metadata": {},
   "outputs": [],
   "source": [
    "predictionsSVC = modelSVC.predict(vect_transformed_X_test)"
   ]
  },
  {
   "cell_type": "code",
   "execution_count": 17,
   "metadata": {},
   "outputs": [
    {
     "data": {
      "text/plain": [
       "(0.9348016518583406, 0.5422961822789396)"
      ]
     },
     "execution_count": 17,
     "metadata": {},
     "output_type": "execute_result"
    }
   ],
   "source": [
    "f = f1_score(y_test, predictionsSVC, average='macro')\n",
    "a = accuracy_score(y_test, predictionsSVC)\n",
    "accuracies.append(a)\n",
    "f1_scores.append(f)\n",
    "a, f"
   ]
  },
  {
   "cell_type": "code",
   "execution_count": 18,
   "metadata": {},
   "outputs": [],
   "source": [
    "modelLR = LogisticRegression(C=0.1, max_iter=400).fit(vect_transformed_X_train, y_train)"
   ]
  },
  {
   "cell_type": "code",
   "execution_count": 19,
   "metadata": {},
   "outputs": [],
   "source": [
    "predictionsLR = modelLR.predict(vect_transformed_X_test)"
   ]
  },
  {
   "cell_type": "code",
   "execution_count": 20,
   "metadata": {},
   "outputs": [
    {
     "data": {
      "text/plain": [
       "(0.9319234138405706, 0.5034804649879294)"
      ]
     },
     "execution_count": 20,
     "metadata": {},
     "output_type": "execute_result"
    }
   ],
   "source": [
    "f = f1_score(y_test, predictionsLR, average='macro')\n",
    "a = accuracy_score(y_test, predictionsLR)\n",
    "accuracies.append(a)\n",
    "f1_scores.append(f)\n",
    "a, f"
   ]
  },
  {
   "cell_type": "code",
   "execution_count": 21,
   "metadata": {},
   "outputs": [],
   "source": [
    "modelNB = MultinomialNB(alpha=1.7).fit(vect_transformed_X_train,y_train)"
   ]
  },
  {
   "cell_type": "code",
   "execution_count": 22,
   "metadata": {},
   "outputs": [
    {
     "data": {
      "text/plain": [
       "(0.9355524965586285, 0.5519396353449623)"
      ]
     },
     "execution_count": 22,
     "metadata": {},
     "output_type": "execute_result"
    }
   ],
   "source": [
    "predictionsNB = modelNB.predict(vect_transformed_X_test)\n",
    "f = f1_score(y_test, predictionsNB, average='macro')\n",
    "a = accuracy_score(y_test, predictionsNB)\n",
    "accuracies.append(a)\n",
    "f1_scores.append(f)\n",
    "a, f"
   ]
  },
  {
   "cell_type": "code",
   "execution_count": 23,
   "metadata": {},
   "outputs": [],
   "source": [
    "modelRF = RandomForestClassifier(n_estimators=20).fit(vect_transformed_X_train,y_train)"
   ]
  },
  {
   "cell_type": "code",
   "execution_count": 24,
   "metadata": {},
   "outputs": [
    {
     "data": {
      "text/plain": [
       "(0.9515705168314353, 0.7226064250367381)"
      ]
     },
     "execution_count": 24,
     "metadata": {},
     "output_type": "execute_result"
    }
   ],
   "source": [
    "predictionsRF = modelRF.predict(vect_transformed_X_test)\n",
    "f = f1_score(y_test, predictionsRF, average='macro')\n",
    "a = accuracy_score(y_test, predictionsRF)\n",
    "accuracies.append(a)\n",
    "f1_scores.append(f)\n",
    "a, f"
   ]
  },
  {
   "cell_type": "code",
   "execution_count": 25,
   "metadata": {},
   "outputs": [],
   "source": [
    "modelSGD = SGDClassifier(loss='hinge', penalty='l2',alpha=1e-3).fit(vect_transformed_X_train,y_train)"
   ]
  },
  {
   "cell_type": "code",
   "execution_count": 26,
   "metadata": {},
   "outputs": [
    {
     "data": {
      "text/plain": [
       "(0.932048554623952, 0.5052320998513454)"
      ]
     },
     "execution_count": 26,
     "metadata": {},
     "output_type": "execute_result"
    }
   ],
   "source": [
    "predictionsSGD = modelSGD.predict(vect_transformed_X_test)\n",
    "f = f1_score(y_test, predictionsSGD, average='macro')\n",
    "a = accuracy_score(y_test, predictionsSGD)\n",
    "accuracies.append(a)\n",
    "f1_scores.append(f)\n",
    "a, f"
   ]
  },
  {
   "cell_type": "code",
   "execution_count": 27,
   "metadata": {},
   "outputs": [
    {
     "data": {
      "text/plain": [
       "([0.9348016518583406,\n",
       "  0.9319234138405706,\n",
       "  0.9355524965586285,\n",
       "  0.9515705168314353,\n",
       "  0.932048554623952],\n",
       " [0.5422961822789396,\n",
       "  0.5034804649879294,\n",
       "  0.5519396353449623,\n",
       "  0.7226064250367381,\n",
       "  0.5052320998513454])"
      ]
     },
     "execution_count": 27,
     "metadata": {},
     "output_type": "execute_result"
    }
   ],
   "source": [
    "accuracies, f1_scores"
   ]
  },
  {
   "cell_type": "code",
   "execution_count": 28,
   "metadata": {},
   "outputs": [],
   "source": [
    "import matplotlib.pyplot as plt\n",
    "import seaborn as sns\n",
    "%matplotlib inline"
   ]
  },
  {
   "cell_type": "code",
   "execution_count": 29,
   "metadata": {},
   "outputs": [],
   "source": [
    "models = ['SVC', 'Logistic Regression', 'Multinomial NB', 'Random Forest', 'SGD']\n",
    "d = list(zip(models, accuracies, f1_scores))"
   ]
  },
  {
   "cell_type": "code",
   "execution_count": 30,
   "metadata": {},
   "outputs": [
    {
     "data": {
      "text/html": [
       "<div>\n",
       "<style scoped>\n",
       "    .dataframe tbody tr th:only-of-type {\n",
       "        vertical-align: middle;\n",
       "    }\n",
       "\n",
       "    .dataframe tbody tr th {\n",
       "        vertical-align: top;\n",
       "    }\n",
       "\n",
       "    .dataframe thead th {\n",
       "        text-align: right;\n",
       "    }\n",
       "</style>\n",
       "<table border=\"1\" class=\"dataframe\">\n",
       "  <thead>\n",
       "    <tr style=\"text-align: right;\">\n",
       "      <th></th>\n",
       "      <th>Model</th>\n",
       "      <th>Accuracy</th>\n",
       "      <th>F1_Score</th>\n",
       "    </tr>\n",
       "  </thead>\n",
       "  <tbody>\n",
       "    <tr>\n",
       "      <th>0</th>\n",
       "      <td>SVC</td>\n",
       "      <td>0.934802</td>\n",
       "      <td>0.542296</td>\n",
       "    </tr>\n",
       "    <tr>\n",
       "      <th>1</th>\n",
       "      <td>Logistic Regression</td>\n",
       "      <td>0.931923</td>\n",
       "      <td>0.503480</td>\n",
       "    </tr>\n",
       "    <tr>\n",
       "      <th>2</th>\n",
       "      <td>Multinomial NB</td>\n",
       "      <td>0.935552</td>\n",
       "      <td>0.551940</td>\n",
       "    </tr>\n",
       "    <tr>\n",
       "      <th>3</th>\n",
       "      <td>Random Forest</td>\n",
       "      <td>0.951571</td>\n",
       "      <td>0.722606</td>\n",
       "    </tr>\n",
       "    <tr>\n",
       "      <th>4</th>\n",
       "      <td>SGD</td>\n",
       "      <td>0.932049</td>\n",
       "      <td>0.505232</td>\n",
       "    </tr>\n",
       "  </tbody>\n",
       "</table>\n",
       "</div>"
      ],
      "text/plain": [
       "                 Model  Accuracy  F1_Score\n",
       "0                  SVC  0.934802  0.542296\n",
       "1  Logistic Regression  0.931923  0.503480\n",
       "2       Multinomial NB  0.935552  0.551940\n",
       "3        Random Forest  0.951571  0.722606\n",
       "4                  SGD  0.932049  0.505232"
      ]
     },
     "execution_count": 30,
     "metadata": {},
     "output_type": "execute_result"
    }
   ],
   "source": [
    "plotdf = pd.DataFrame(d, columns=['Model', 'Accuracy', 'F1_Score'])\n",
    "plotdf"
   ]
  },
  {
   "cell_type": "code",
   "execution_count": 31,
   "metadata": {},
   "outputs": [
    {
     "data": {
      "text/plain": [
       "<AxesSubplot:xlabel='Model', ylabel='Accuracy'>"
      ]
     },
     "execution_count": 31,
     "metadata": {},
     "output_type": "execute_result"
    },
    {
     "data": {
      "image/png": "[encoded data removed]",
      "text/plain": [
       "<Figure size 720x360 with 1 Axes>"
      ]
     },
     "metadata": {
      "needs_background": "light"
     },
     "output_type": "display_data"
    }
   ],
   "source": [
    "plt.figure(figsize=(10,5))\n",
    "sns.lineplot(x='Model', y='Accuracy', data=plotdf)"
   ]
  },
  {
   "cell_type": "code",
   "execution_count": 32,
   "metadata": {},
   "outputs": [
    {
     "data": {
      "text/plain": [
       "<AxesSubplot:xlabel='Model', ylabel='F1_Score'>"
      ]
     },
     "execution_count": 32,
     "metadata": {},
     "output_type": "execute_result"
    },
    {
     "data": {
      "image/png": "[encoded data removed]",
      "text/plain": [
       "<Figure size 720x360 with 1 Axes>"
      ]
     },
     "metadata": {
      "needs_background": "light"
     },
     "output_type": "display_data"
    }
   ],
   "source": [
    "plt.figure(figsize=(10,5))\n",
    "sns.lineplot(x='Model', y='F1_Score', data=plotdf)"
   ]
  },
  {
   "cell_type": "code",
   "execution_count": 33,
   "metadata": {},
   "outputs": [
    {
     "data": {
      "text/plain": [
       "12920    0\n",
       "26892    0\n",
       "7770     0\n",
       "20328    0\n",
       "23049    0\n",
       "6712     0\n",
       "29619    0\n",
       "18292    0\n",
       "5020     0\n",
       "22687    1\n",
       "11777    0\n",
       "12045    0\n",
       "8106     0\n",
       "17447    0\n",
       "1954     0\n",
       "23240    0\n",
       "30148    1\n",
       "17677    0\n",
       "18127    0\n",
       "12608    0\n",
       "Name: label, dtype: category\n",
       "Categories (2, int64): [0, 1]"
      ]
     },
     "execution_count": 33,
     "metadata": {},
     "output_type": "execute_result"
    }
   ],
   "source": [
    "tfidf = TfidfVectorizer(ngram_range=(1,5), stop_words='english')\n",
    "features = tfidf.fit_transform(X_train[:20]).toarray()\n",
    "labels = y_train[:20]\n",
    "features.shape\n",
    "labels"
   ]
  },
  {
   "cell_type": "code",
   "execution_count": 34,
   "metadata": {},
   "outputs": [
    {
     "name": "stdout",
     "output_type": "stream",
     "text": [
      "# 'Non-hate':\n",
      "  . Most correlated unigrams:\n",
      ". racist\n",
      ". effect\n",
      ". positive\n",
      ". smiling\n",
      ". impressions\n",
      "  . Most correlated bigrams:\n",
      ". racist impressions\n",
      ". effect racist\n",
      ". positive effect\n",
      ". smiling positive\n",
      ". user smiling\n",
      "  . Most correlated trigrams:\n",
      ". killed community turns\n",
      ". user smiling positive\n",
      ". positive effect racist\n",
      ". smiling positive effect\n",
      ". effect racist impressions\n",
      "  . Most correlated quadgrams:\n",
      ". ordered killed community turns\n",
      ". husband ordered killed community\n",
      ". user smiling positive effect\n",
      ". positive effect racist impressions\n",
      ". smiling positive effect racist\n",
      "  . Most correlated pentgrams:\n",
      ". funeral horrifying husband ordered killed\n",
      ". horrifying husband ordered killed community\n",
      ". husband ordered killed community turns\n",
      ". user smiling positive effect racist\n",
      ". smiling positive effect racist impressions\n",
      "# 'Hate':\n",
      "  . Most correlated unigrams:\n",
      ". detected\n",
      ". towardszero\n",
      ". stopped\n",
      ". vehicles\n",
      ". result\n",
      "  . Most correlated bigrams:\n",
      ". detected tremendous\n",
      ". drink driver\n",
      ". vehicles stopped\n",
      ". user vehicles\n",
      ". result peh\n",
      "  . Most correlated trigrams:\n",
      ". result peh towardszero\n",
      ". vehicles stopped biketeam\n",
      ". drink driver detected\n",
      ". user vehicles stopped\n",
      ". driver detected tremendous\n",
      "  . Most correlated quadgrams:\n",
      ". result peh towardszero drivet\n",
      ". vehicles stopped biketeam drink\n",
      ". drink driver detected tremendous\n",
      ". user vehicles stopped biketeam\n",
      ". detected tremendous result peh\n",
      "  . Most correlated pentgrams:\n",
      ". tremendous result peh towardszero drivet\n",
      ". vehicles stopped biketeam drink driver\n",
      ". stopped biketeam drink driver detected\n",
      ". drink driver detected tremendous result\n",
      ". user vehicles stopped biketeam drink\n"
     ]
    }
   ],
   "source": [
    "from sklearn.feature_selection import chi2\n",
    "N = 5\n",
    "d = {0: 'Non-hate', 1: 'Hate'}\n",
    "n_grams = {0: [], 1: []}\n",
    "for label in [0,1]:\n",
    "  features_chi2 = chi2(features, labels == label)\n",
    "  indices = np.argsort(features_chi2[label])\n",
    "  feature_names = np.array(tfidf.get_feature_names())[indices]\n",
    "  unigrams = [v for v in feature_names if len(v.split(' ')) == 1]\n",
    "  bigrams = [v for v in feature_names if len(v.split(' ')) == 2]\n",
    "  trigrams = [v for v in feature_names if len(v.split(' ')) == 3]\n",
    "  quadgrams = [v for v in feature_names if len(v.split(' ')) == 4]\n",
    "  pentgrams = [v for v in feature_names if len(v.split(' ')) == 5]\n",
    "  n_grams[label].extend(pentgrams)\n",
    "  print(\"# '{}':\".format(d[label]))\n",
    "  print(\"  . Most correlated unigrams:\\n. {}\".format('\\n. '.join(unigrams[-N:])))\n",
    "  print(\"  . Most correlated bigrams:\\n. {}\".format('\\n. '.join(bigrams[-N:])))\n",
    "  print(\"  . Most correlated trigrams:\\n. {}\".format('\\n. '.join(trigrams[-N:])))\n",
    "  print(\"  . Most correlated quadgrams:\\n. {}\".format('\\n. '.join(quadgrams[-N:])))\n",
    "  print(\"  . Most correlated pentgrams:\\n. {}\".format('\\n. '.join(pentgrams[-N:])))\n",
    "  "
   ]
  },
  {
   "cell_type": "code",
   "execution_count": 35,
   "metadata": {},
   "outputs": [
    {
     "data": {
      "text/plain": [
       "['sgdModel.sav']"
      ]
     },
     "execution_count": 35,
     "metadata": {},
     "output_type": "execute_result"
    }
   ],
   "source": [
    "import joblib\n",
    "\n",
    "lr = 'lrModel.sav'\n",
    "nb = 'nbModel.sav'\n",
    "svc = 'svcModel.sav'\n",
    "rf = 'rfModel.sav'\n",
    "sgd = 'sgdModel.sav'\n",
    "\n",
    "joblib.dump(modelSVC, svc)\n",
    "joblib.dump(modelLR, lr)\n",
    "joblib.dump(modelNB, nb)\n",
    "joblib.dump(modelRF, rf)\n",
    "joblib.dump(modelSGD, sgd)"
   ]
  },
  {
   "cell_type": "code",
   "execution_count": 36,
   "metadata": {},
   "outputs": [],
   "source": [
    "df2 = pd.DataFrame(n_grams[0])"
   ]
  },
  {
   "cell_type": "code",
   "execution_count": 37,
   "metadata": {},
   "outputs": [],
   "source": [
    "df2['class'] = 0"
   ]
  },
  {
   "cell_type": "code",
   "execution_count": 38,
   "metadata": {},
   "outputs": [
    {
     "data": {
      "text/html": [
       "<div>\n",
       "<style scoped>\n",
       "    .dataframe tbody tr th:only-of-type {\n",
       "        vertical-align: middle;\n",
       "    }\n",
       "\n",
       "    .dataframe tbody tr th {\n",
       "        vertical-align: top;\n",
       "    }\n",
       "\n",
       "    .dataframe thead th {\n",
       "        text-align: right;\n",
       "    }\n",
       "</style>\n",
       "<table border=\"1\" class=\"dataframe\">\n",
       "  <thead>\n",
       "    <tr style=\"text-align: right;\">\n",
       "      <th></th>\n",
       "      <th>0</th>\n",
       "      <th>class</th>\n",
       "    </tr>\n",
       "  </thead>\n",
       "  <tbody>\n",
       "    <tr>\n",
       "      <th>0</th>\n",
       "      <td>biketeam drink driver detected tremendous</td>\n",
       "      <td>0</td>\n",
       "    </tr>\n",
       "    <tr>\n",
       "      <th>1</th>\n",
       "      <td>drink driver detected tremendous result</td>\n",
       "      <td>0</td>\n",
       "    </tr>\n",
       "    <tr>\n",
       "      <th>2</th>\n",
       "      <td>driver detected tremendous result peh</td>\n",
       "      <td>0</td>\n",
       "    </tr>\n",
       "    <tr>\n",
       "      <th>3</th>\n",
       "      <td>stopped biketeam drink driver detected</td>\n",
       "      <td>0</td>\n",
       "    </tr>\n",
       "    <tr>\n",
       "      <th>4</th>\n",
       "      <td>user vehicles stopped biketeam drink</td>\n",
       "      <td>0</td>\n",
       "    </tr>\n",
       "  </tbody>\n",
       "</table>\n",
       "</div>"
      ],
      "text/plain": [
       "                                           0  class\n",
       "0  biketeam drink driver detected tremendous      0\n",
       "1    drink driver detected tremendous result      0\n",
       "2      driver detected tremendous result peh      0\n",
       "3     stopped biketeam drink driver detected      0\n",
       "4       user vehicles stopped biketeam drink      0"
      ]
     },
     "execution_count": 38,
     "metadata": {},
     "output_type": "execute_result"
    }
   ],
   "source": [
    "df2.head()"
   ]
  },
  {
   "cell_type": "code",
   "execution_count": 39,
   "metadata": {},
   "outputs": [
    {
     "data": {
      "text/html": [
       "<div>\n",
       "<style scoped>\n",
       "    .dataframe tbody tr th:only-of-type {\n",
       "        vertical-align: middle;\n",
       "    }\n",
       "\n",
       "    .dataframe tbody tr th {\n",
       "        vertical-align: top;\n",
       "    }\n",
       "\n",
       "    .dataframe thead th {\n",
       "        text-align: right;\n",
       "    }\n",
       "</style>\n",
       "<table border=\"1\" class=\"dataframe\">\n",
       "  <thead>\n",
       "    <tr style=\"text-align: right;\">\n",
       "      <th></th>\n",
       "      <th>0</th>\n",
       "      <th>class</th>\n",
       "    </tr>\n",
       "  </thead>\n",
       "  <tbody>\n",
       "    <tr>\n",
       "      <th>0</th>\n",
       "      <td>biketeam drink driver detected tremendous</td>\n",
       "      <td>0</td>\n",
       "    </tr>\n",
       "    <tr>\n",
       "      <th>1</th>\n",
       "      <td>drink driver detected tremendous result</td>\n",
       "      <td>0</td>\n",
       "    </tr>\n",
       "    <tr>\n",
       "      <th>2</th>\n",
       "      <td>driver detected tremendous result peh</td>\n",
       "      <td>0</td>\n",
       "    </tr>\n",
       "    <tr>\n",
       "      <th>3</th>\n",
       "      <td>stopped biketeam drink driver detected</td>\n",
       "      <td>0</td>\n",
       "    </tr>\n",
       "    <tr>\n",
       "      <th>4</th>\n",
       "      <td>user vehicles stopped biketeam drink</td>\n",
       "      <td>0</td>\n",
       "    </tr>\n",
       "  </tbody>\n",
       "</table>\n",
       "</div>"
      ],
      "text/plain": [
       "                                           0  class\n",
       "0  biketeam drink driver detected tremendous      0\n",
       "1    drink driver detected tremendous result      0\n",
       "2      driver detected tremendous result peh      0\n",
       "3     stopped biketeam drink driver detected      0\n",
       "4       user vehicles stopped biketeam drink      0"
      ]
     },
     "execution_count": 39,
     "metadata": {},
     "output_type": "execute_result"
    }
   ],
   "source": [
    "l = {}\n",
    "for i in n_grams[1]:\n",
    "    l[i]=1\n",
    "df2.append(l, ignore_index=True)\n",
    "df2.head()"
   ]
  },
  {
   "cell_type": "code",
   "execution_count": 40,
   "metadata": {},
   "outputs": [],
   "source": [
    "del(l)"
   ]
  },
  {
   "cell_type": "code",
   "execution_count": 41,
   "metadata": {},
   "outputs": [],
   "source": [
    "l = {}\n",
    "for i in range(len(n_grams[0]) // 2):\n",
    "    l[n_grams[0][i]]=0\n",
    "    l[n_grams[1][len(n_grams)-i]]=1"
   ]
  },
  {
   "cell_type": "code",
   "execution_count": 42,
   "metadata": {},
   "outputs": [
    {
     "data": {
      "text/plain": [
       "{'biketeam drink driver detected tremendous': 1,\n",
       " 'crashes funeral horrifying husband ordered': 1,\n",
       " 'drink driver detected tremendous result': 1,\n",
       " 'smiling positive effect racist impressions': 1,\n",
       " 'driver detected tremendous result peh': 1,\n",
       " 'user smiling positive effect racist': 1,\n",
       " 'stopped biketeam drink driver detected': 1,\n",
       " 'user vehicles stopped biketeam drink': 0,\n",
       " 'tremendous result peh towardszero drivet': 1,\n",
       " 'detected tremendous result peh towardszero': 1,\n",
       " 'vehicles stopped biketeam drink driver': 0,\n",
       " 'recipe salad pasta food yummy': 1,\n",
       " 'salad pasta food yummy foodie': 1,\n",
       " 'salad recipe salad pasta food': 1,\n",
       " 'pasta salad recipe salad pasta': 1,\n",
       " 'food yummy foodie delicious instagood': 0,\n",
       " 'pasta food yummy foodie delicious': 1,\n",
       " 'greek pasta salad recipe salad': 0,\n",
       " 'given called man longer sentence': 1,\n",
       " 'lightly judge ve given called': 1,\n",
       " 'cases treated lightly judge ve': 1,\n",
       " 'like eat hot wings people': 1,\n",
       " 've given called man longer': 0,\n",
       " 'just think spice getting hotwings': 1,\n",
       " 'eat hot wings people just': 0,\n",
       " 'hot wings people just think': 1,\n",
       " 'people just think spice getting': 0,\n",
       " 'called man longer sentence cared': 1,\n",
       " 'treated lightly judge ve given': 0,\n",
       " 'judge ve given called man': 1,\n",
       " 'crying like eat hot wings': 1,\n",
       " 'wings people just think spice': 0,\n",
       " 'super sindy team csd innsbruck': 0,\n",
       " 'innsbruck thank suppo friends blessed': 0,\n",
       " 'sindy team csd innsbruck thank': 0,\n",
       " 'az want hang girls today': 1,\n",
       " 'want hang girls today farmerscare': 0,\n",
       " 'team csd innsbruck thank suppo': 0,\n",
       " 'cows az want hang girls': 1,\n",
       " 'hang girls today farmerscare milkmatters': 0,\n",
       " 'girls today farmerscare milkmatters azmilkproducers': 1}"
      ]
     },
     "execution_count": 42,
     "metadata": {},
     "output_type": "execute_result"
    }
   ],
   "source": [
    "l"
   ]
  },
  {
   "cell_type": "code",
   "execution_count": 43,
   "metadata": {},
   "outputs": [],
   "source": [
    "df2 = pd.DataFrame(list(l.items()), columns=['n_grams', 'class'])"
   ]
  },
  {
   "cell_type": "code",
   "execution_count": 44,
   "metadata": {},
   "outputs": [],
   "source": [
    "x_tr, x_ts, y_tr, y_ts = train_test_split(df2['n_grams'], df2['class'])"
   ]
  },
  {
   "cell_type": "code",
   "execution_count": 46,
   "metadata": {},
   "outputs": [],
   "source": [
    "vect2 = TfidfVectorizer(ngram_range = (1,5)).fit(x_tr)\n",
    "vect_transformed_x_tr = vect.transform(x_tr)\n",
    "vect_transformed_x_ts = vect.transform(x_ts)"
   ]
  },
  {
   "cell_type": "code",
   "execution_count": 48,
   "metadata": {},
   "outputs": [
    {
     "data": {
      "text/plain": [
       "(0.7272727272727273, 0.4210526315789474)"
      ]
     },
     "execution_count": 48,
     "metadata": {},
     "output_type": "execute_result"
    }
   ],
   "source": [
    "modelSVC2 = SVC(C=0.1).fit(vect_transformed_x_tr, y_tr)\n",
    "predictionsSVC2 = modelSVC2.predict(vect_transformed_x_ts)\n",
    "f = f1_score(y_ts, predictionsSVC2, average='macro')\n",
    "a = accuracy_score(y_ts, predictionsSVC2)\n",
    "a, f"
   ]
  },
  {
   "cell_type": "code",
   "execution_count": 49,
   "metadata": {},
   "outputs": [
    {
     "data": {
      "text/plain": [
       "(0.7272727272727273, 0.4210526315789474)"
      ]
     },
     "execution_count": 49,
     "metadata": {},
     "output_type": "execute_result"
    }
   ],
   "source": [
    "modelLR2 = LogisticRegression(C=0.1, max_iter=400).fit(vect_transformed_x_tr, y_tr)\n",
    "predictionsLR2 = modelLR2.predict(vect_transformed_x_ts)\n",
    "f = f1_score(y_ts, predictionsLR2, average='macro')\n",
    "a = accuracy_score(y_ts, predictionsLR2)\n",
    "a, f"
   ]
  },
  {
   "cell_type": "code",
   "execution_count": 57,
   "metadata": {},
   "outputs": [
    {
     "data": {
      "text/plain": [
       "(0.2727272727272727, 0.21428571428571427)"
      ]
     },
     "execution_count": 57,
     "metadata": {},
     "output_type": "execute_result"
    }
   ],
   "source": [
    "predictions = modelSVC.predict(vect_transformed_x_ts)\n",
    "f = f1_score(y_ts, predictions, average=\"macro\")\n",
    "a = accuracy_score(y_ts, predictions)\n",
    "a, f"
   ]
  },
  {
   "cell_type": "code",
   "execution_count": null,
   "metadata": {},
   "outputs": [],
   "source": []
  }
 ],
 "metadata": {
  "kernelspec": {
   "display_name": "Python 3",
   "language": "python",
   "name": "python3"
  },
  "language_info": {
   "codemirror_mode": {
    "name": "ipython",
    "version": 3
   },
   "file_extension": ".py",
   "mimetype": "text/x-python",
   "name": "python",
   "nbconvert_exporter": "python",
   "pygments_lexer": "ipython3",
   "version": "3.8.2"
  }
 },
 "nbformat": 4,
 "nbformat_minor": 4
}
